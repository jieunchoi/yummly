{
 "cells": [
  {
   "cell_type": "code",
   "execution_count": 1,
   "metadata": {},
   "outputs": [
    {
     "name": "stderr",
     "output_type": "stream",
     "text": [
      "Using TensorFlow backend.\n"
     ]
    }
   ],
   "source": [
    "%matplotlib inline\n",
    "import pandas as pd\n",
    "import numpy as np\n",
    "import seaborn as sns\n",
    "import json\n",
    "import csv\n",
    "from tqdm import tqdm_notebook\n",
    "import pickle\n",
    "import time\n",
    "import nltk\n",
    "import re\n",
    "import string\n",
    "import unicodedata\n",
    "from timeit import default_timer as timer\n",
    "\n",
    "import keras\n",
    "\n",
    "from sklearn.feature_extraction.text import CountVectorizer\n",
    "from sklearn.feature_extraction.text import TfidfVectorizer, TfidfTransformer\n",
    "from sklearn.naive_bayes import ComplementNB\n",
    "from sklearn.linear_model import LogisticRegression\n",
    "from sklearn.svm import SVC\n",
    "from sklearn.ensemble import RandomForestClassifier, RandomForestRegressor, GradientBoostingClassifier\n",
    "from sklearn.feature_selection import SelectFromModel\n",
    "from sklearn.decomposition import PCA\n",
    "from xgboost import XGBClassifier\n",
    "\n",
    "from sklearn import metrics\n",
    "from sklearn import model_selection\n",
    "from sklearn import preprocessing\n",
    "\n",
    "from hyperopt import STATUS_OK, hp, tpe, fmin, Trials\n",
    "from hyperopt.pyll.stochastic import sample\n",
    "from hyperopt.pyll.base import scope\n",
    "\n",
    "import matplotlib.pyplot as plt\n",
    "sns.set_context('notebook')"
   ]
  },
  {
   "cell_type": "markdown",
   "metadata": {},
   "source": [
    "# Yummly Dataset\n",
    "\n",
    "Objective: predict the cuisine based on the list of ingredients.\n",
    "\n",
    "Learning Goal: apply the techniques learned from the previous Titanic exercise with the addition of working with text data, apply dimensionality reduction techniques."
   ]
  },
  {
   "cell_type": "markdown",
   "metadata": {},
   "source": [
    "## Exploratory Data Analysis"
   ]
  },
  {
   "cell_type": "code",
   "execution_count": 2,
   "metadata": {},
   "outputs": [
    {
     "data": {
      "text/html": [
       "<div>\n",
       "<style scoped>\n",
       "    .dataframe tbody tr th:only-of-type {\n",
       "        vertical-align: middle;\n",
       "    }\n",
       "\n",
       "    .dataframe tbody tr th {\n",
       "        vertical-align: top;\n",
       "    }\n",
       "\n",
       "    .dataframe thead th {\n",
       "        text-align: right;\n",
       "    }\n",
       "</style>\n",
       "<table border=\"1\" class=\"dataframe\">\n",
       "  <thead>\n",
       "    <tr style=\"text-align: right;\">\n",
       "      <th></th>\n",
       "      <th>cuisine</th>\n",
       "      <th>id</th>\n",
       "      <th>ingredients</th>\n",
       "    </tr>\n",
       "  </thead>\n",
       "  <tbody>\n",
       "    <tr>\n",
       "      <th>0</th>\n",
       "      <td>greek</td>\n",
       "      <td>10259</td>\n",
       "      <td>[romaine lettuce, black olives, grape tomatoes...</td>\n",
       "    </tr>\n",
       "    <tr>\n",
       "      <th>1</th>\n",
       "      <td>southern_us</td>\n",
       "      <td>25693</td>\n",
       "      <td>[plain flour, ground pepper, salt, tomatoes, g...</td>\n",
       "    </tr>\n",
       "    <tr>\n",
       "      <th>2</th>\n",
       "      <td>filipino</td>\n",
       "      <td>20130</td>\n",
       "      <td>[eggs, pepper, salt, mayonaise, cooking oil, g...</td>\n",
       "    </tr>\n",
       "    <tr>\n",
       "      <th>3</th>\n",
       "      <td>indian</td>\n",
       "      <td>22213</td>\n",
       "      <td>[water, vegetable oil, wheat, salt]</td>\n",
       "    </tr>\n",
       "    <tr>\n",
       "      <th>4</th>\n",
       "      <td>indian</td>\n",
       "      <td>13162</td>\n",
       "      <td>[black pepper, shallots, cornflour, cayenne pe...</td>\n",
       "    </tr>\n",
       "  </tbody>\n",
       "</table>\n",
       "</div>"
      ],
      "text/plain": [
       "       cuisine     id                                        ingredients\n",
       "0        greek  10259  [romaine lettuce, black olives, grape tomatoes...\n",
       "1  southern_us  25693  [plain flour, ground pepper, salt, tomatoes, g...\n",
       "2     filipino  20130  [eggs, pepper, salt, mayonaise, cooking oil, g...\n",
       "3       indian  22213                [water, vegetable oil, wheat, salt]\n",
       "4       indian  13162  [black pepper, shallots, cornflour, cayenne pe..."
      ]
     },
     "metadata": {},
     "output_type": "display_data"
    }
   ],
   "source": [
    "df_train_0 = pd.read_json('data/train.json')\n",
    "df_test_0 = pd.read_json('data/test.json')\n",
    "\n",
    "display(df_train_0.head())"
   ]
  },
  {
   "cell_type": "code",
   "execution_count": 3,
   "metadata": {},
   "outputs": [
    {
     "data": {
      "text/plain": [
       "(39774, 3)"
      ]
     },
     "execution_count": 3,
     "metadata": {},
     "output_type": "execute_result"
    }
   ],
   "source": [
    "np.shape(df_train_0)"
   ]
  },
  {
   "cell_type": "markdown",
   "metadata": {},
   "source": [
    "Check for any nulls."
   ]
  },
  {
   "cell_type": "code",
   "execution_count": 4,
   "metadata": {},
   "outputs": [
    {
     "name": "stdout",
     "output_type": "stream",
     "text": [
      "cuisine        0\n",
      "id             0\n",
      "ingredients    0\n",
      "dtype: int64\n",
      "id             0\n",
      "ingredients    0\n",
      "dtype: int64\n"
     ]
    }
   ],
   "source": [
    "print(df_train_0.isnull().sum())\n",
    "print(df_test_0.isnull().sum())\n",
    "\n",
    "df_train = df_train_0.copy()\n",
    "df_test = df_test_0.copy()"
   ]
  },
  {
   "cell_type": "markdown",
   "metadata": {},
   "source": [
    "How many ingredients are there for each recipe?"
   ]
  },
  {
   "cell_type": "code",
   "execution_count": 5,
   "metadata": {},
   "outputs": [
    {
     "data": {
      "image/png": "[encoded data removed]",
      "text/plain": [
       "<Figure size 720x216 with 1 Axes>"
      ]
     },
     "metadata": {
      "needs_background": "light"
     },
     "output_type": "display_data"
    }
   ],
   "source": [
    "df_train['num_ing'] = df_train['ingredients'].apply(lambda x: len(x))\n",
    "df_test['num_ing'] = df_test['ingredients'].apply(lambda x: len(x))\n",
    "plt.figure(1, figsize=(10,3))\n",
    "s = sns.countplot(x='num_ing', data=df_train)\n",
    "s.set_yscale('log')"
   ]
  },
  {
   "cell_type": "markdown",
   "metadata": {},
   "source": [
    "It's weird that there are single ingredient \"recipes\" but they still contain useful information about each cuisine."
   ]
  },
  {
   "cell_type": "code",
   "execution_count": 6,
   "metadata": {},
   "outputs": [
    {
     "data": {
      "text/html": [
       "<div>\n",
       "<style scoped>\n",
       "    .dataframe tbody tr th:only-of-type {\n",
       "        vertical-align: middle;\n",
       "    }\n",
       "\n",
       "    .dataframe tbody tr th {\n",
       "        vertical-align: top;\n",
       "    }\n",
       "\n",
       "    .dataframe thead th {\n",
       "        text-align: right;\n",
       "    }\n",
       "</style>\n",
       "<table border=\"1\" class=\"dataframe\">\n",
       "  <thead>\n",
       "    <tr style=\"text-align: right;\">\n",
       "      <th></th>\n",
       "      <th>cuisine</th>\n",
       "      <th>id</th>\n",
       "      <th>ingredients</th>\n",
       "      <th>num_ing</th>\n",
       "    </tr>\n",
       "  </thead>\n",
       "  <tbody>\n",
       "    <tr>\n",
       "      <th>940</th>\n",
       "      <td>japanese</td>\n",
       "      <td>4734</td>\n",
       "      <td>[sushi rice]</td>\n",
       "      <td>1</td>\n",
       "    </tr>\n",
       "    <tr>\n",
       "      <th>2088</th>\n",
       "      <td>vietnamese</td>\n",
       "      <td>7833</td>\n",
       "      <td>[dried rice noodles]</td>\n",
       "      <td>1</td>\n",
       "    </tr>\n",
       "    <tr>\n",
       "      <th>6787</th>\n",
       "      <td>indian</td>\n",
       "      <td>36818</td>\n",
       "      <td>[plain low-fat yogurt]</td>\n",
       "      <td>1</td>\n",
       "    </tr>\n",
       "    <tr>\n",
       "      <th>7011</th>\n",
       "      <td>indian</td>\n",
       "      <td>19772</td>\n",
       "      <td>[unsalted butter]</td>\n",
       "      <td>1</td>\n",
       "    </tr>\n",
       "    <tr>\n",
       "      <th>8181</th>\n",
       "      <td>japanese</td>\n",
       "      <td>16116</td>\n",
       "      <td>[udon]</td>\n",
       "      <td>1</td>\n",
       "    </tr>\n",
       "    <tr>\n",
       "      <th>8852</th>\n",
       "      <td>thai</td>\n",
       "      <td>29738</td>\n",
       "      <td>[sticky rice]</td>\n",
       "      <td>1</td>\n",
       "    </tr>\n",
       "    <tr>\n",
       "      <th>8990</th>\n",
       "      <td>indian</td>\n",
       "      <td>41124</td>\n",
       "      <td>[butter]</td>\n",
       "      <td>1</td>\n",
       "    </tr>\n",
       "    <tr>\n",
       "      <th>10506</th>\n",
       "      <td>mexican</td>\n",
       "      <td>32631</td>\n",
       "      <td>[corn tortillas]</td>\n",
       "      <td>1</td>\n",
       "    </tr>\n",
       "    <tr>\n",
       "      <th>13178</th>\n",
       "      <td>thai</td>\n",
       "      <td>29570</td>\n",
       "      <td>[grained]</td>\n",
       "      <td>1</td>\n",
       "    </tr>\n",
       "    <tr>\n",
       "      <th>17804</th>\n",
       "      <td>southern_us</td>\n",
       "      <td>29849</td>\n",
       "      <td>[lemonade concentrate]</td>\n",
       "      <td>1</td>\n",
       "    </tr>\n",
       "    <tr>\n",
       "      <th>18136</th>\n",
       "      <td>thai</td>\n",
       "      <td>39186</td>\n",
       "      <td>[jasmine rice]</td>\n",
       "      <td>1</td>\n",
       "    </tr>\n",
       "    <tr>\n",
       "      <th>18324</th>\n",
       "      <td>indian</td>\n",
       "      <td>14335</td>\n",
       "      <td>[unsalted butter]</td>\n",
       "      <td>1</td>\n",
       "    </tr>\n",
       "    <tr>\n",
       "      <th>21008</th>\n",
       "      <td>italian</td>\n",
       "      <td>39221</td>\n",
       "      <td>[cherry tomatoes]</td>\n",
       "      <td>1</td>\n",
       "    </tr>\n",
       "    <tr>\n",
       "      <th>22119</th>\n",
       "      <td>french</td>\n",
       "      <td>41135</td>\n",
       "      <td>[butter]</td>\n",
       "      <td>1</td>\n",
       "    </tr>\n",
       "    <tr>\n",
       "      <th>22387</th>\n",
       "      <td>indian</td>\n",
       "      <td>36874</td>\n",
       "      <td>[cumin seed]</td>\n",
       "      <td>1</td>\n",
       "    </tr>\n",
       "    <tr>\n",
       "      <th>23512</th>\n",
       "      <td>french</td>\n",
       "      <td>35028</td>\n",
       "      <td>[haricots verts]</td>\n",
       "      <td>1</td>\n",
       "    </tr>\n",
       "    <tr>\n",
       "      <th>26887</th>\n",
       "      <td>mexican</td>\n",
       "      <td>18593</td>\n",
       "      <td>[vegetable oil]</td>\n",
       "      <td>1</td>\n",
       "    </tr>\n",
       "    <tr>\n",
       "      <th>29294</th>\n",
       "      <td>spanish</td>\n",
       "      <td>7460</td>\n",
       "      <td>[spanish chorizo]</td>\n",
       "      <td>1</td>\n",
       "    </tr>\n",
       "    <tr>\n",
       "      <th>30636</th>\n",
       "      <td>spanish</td>\n",
       "      <td>32772</td>\n",
       "      <td>[sweetened condensed milk]</td>\n",
       "      <td>1</td>\n",
       "    </tr>\n",
       "    <tr>\n",
       "      <th>32105</th>\n",
       "      <td>japanese</td>\n",
       "      <td>12805</td>\n",
       "      <td>[water]</td>\n",
       "      <td>1</td>\n",
       "    </tr>\n",
       "    <tr>\n",
       "      <th>34531</th>\n",
       "      <td>greek</td>\n",
       "      <td>10816</td>\n",
       "      <td>[phyllo]</td>\n",
       "      <td>1</td>\n",
       "    </tr>\n",
       "    <tr>\n",
       "      <th>37220</th>\n",
       "      <td>indian</td>\n",
       "      <td>27192</td>\n",
       "      <td>[unsalted butter]</td>\n",
       "      <td>1</td>\n",
       "    </tr>\n",
       "  </tbody>\n",
       "</table>\n",
       "</div>"
      ],
      "text/plain": [
       "           cuisine     id                 ingredients  num_ing\n",
       "940       japanese   4734                [sushi rice]        1\n",
       "2088    vietnamese   7833        [dried rice noodles]        1\n",
       "6787        indian  36818      [plain low-fat yogurt]        1\n",
       "7011        indian  19772           [unsalted butter]        1\n",
       "8181      japanese  16116                      [udon]        1\n",
       "8852          thai  29738               [sticky rice]        1\n",
       "8990        indian  41124                    [butter]        1\n",
       "10506      mexican  32631            [corn tortillas]        1\n",
       "13178         thai  29570                   [grained]        1\n",
       "17804  southern_us  29849      [lemonade concentrate]        1\n",
       "18136         thai  39186              [jasmine rice]        1\n",
       "18324       indian  14335           [unsalted butter]        1\n",
       "21008      italian  39221           [cherry tomatoes]        1\n",
       "22119       french  41135                    [butter]        1\n",
       "22387       indian  36874                [cumin seed]        1\n",
       "23512       french  35028            [haricots verts]        1\n",
       "26887      mexican  18593             [vegetable oil]        1\n",
       "29294      spanish   7460           [spanish chorizo]        1\n",
       "30636      spanish  32772  [sweetened condensed milk]        1\n",
       "32105     japanese  12805                     [water]        1\n",
       "34531        greek  10816                    [phyllo]        1\n",
       "37220       indian  27192           [unsalted butter]        1"
      ]
     },
     "metadata": {},
     "output_type": "display_data"
    }
   ],
   "source": [
    "display(df_train.loc[df_train.num_ing < 2])"
   ]
  },
  {
   "cell_type": "markdown",
   "metadata": {},
   "source": [
    "What's the recipe with >60 ingredients?!"
   ]
  },
  {
   "cell_type": "code",
   "execution_count": 7,
   "metadata": {},
   "outputs": [
    {
     "data": {
      "text/html": [
       "<div>\n",
       "<style scoped>\n",
       "    .dataframe tbody tr th:only-of-type {\n",
       "        vertical-align: middle;\n",
       "    }\n",
       "\n",
       "    .dataframe tbody tr th {\n",
       "        vertical-align: top;\n",
       "    }\n",
       "\n",
       "    .dataframe thead th {\n",
       "        text-align: right;\n",
       "    }\n",
       "</style>\n",
       "<table border=\"1\" class=\"dataframe\">\n",
       "  <thead>\n",
       "    <tr style=\"text-align: right;\">\n",
       "      <th></th>\n",
       "      <th>cuisine</th>\n",
       "      <th>id</th>\n",
       "      <th>ingredients</th>\n",
       "      <th>num_ing</th>\n",
       "    </tr>\n",
       "  </thead>\n",
       "  <tbody>\n",
       "    <tr>\n",
       "      <th>15289</th>\n",
       "      <td>italian</td>\n",
       "      <td>3885</td>\n",
       "      <td>[fettucine, fresh marjoram, minced garlic, oli...</td>\n",
       "      <td>65</td>\n",
       "    </tr>\n",
       "  </tbody>\n",
       "</table>\n",
       "</div>"
      ],
      "text/plain": [
       "       cuisine    id                                        ingredients  \\\n",
       "15289  italian  3885  [fettucine, fresh marjoram, minced garlic, oli...   \n",
       "\n",
       "       num_ing  \n",
       "15289       65  "
      ]
     },
     "metadata": {},
     "output_type": "display_data"
    }
   ],
   "source": [
    "display(df_train.loc[df_train.num_ing > 60])"
   ]
  },
  {
   "cell_type": "code",
   "execution_count": 8,
   "metadata": {},
   "outputs": [
    {
     "name": "stdout",
     "output_type": "stream",
     "text": [
      "[['fettucine', 'fresh marjoram', 'minced garlic', 'olive oil', 'garlic powder', 'large eggs', 'Alfredo sauce', 'vegetable oil', 'cajun seasoning', 'shredded romano cheese', 'basil dried leaves', 'salt', 'cayenne pepper', 'scallions', 'red bell pepper', 'boneless skinless chicken breast halves', 'soba', 'pasta sauce', 'kosher salt', 'milk', 'fresh ginger', 'ground black pepper', 'flour', 'cooked chicken', 'coarse salt', 'lemon', 'diced tomatoes', 'garlic', 'rice vinegar', 'Neufchâtel', 'garlic cloves', 'dried parsley', 'frozen artichoke hearts', 'penne', 'pepper', 'sweet onion', 'part-skim mozzarella cheese', 'parmigiano reggiano cheese', 'basil leaves', 'onion powder', 'red wine vinegar', 'red pepper flakes', 'orzo', 'crushed red pepper', 'all-purpose flour', 'freshly ground pepper', 'sliced mushrooms', 'panko breadcrumbs', 'plum tomatoes', 'fresh basil', 'fresh leav spinach', 'water', 'sun-dried tomatoes', 'ground pepper', 'grated parmesan cheese', 'boneless skinless chicken breasts', 'chicken cutlets', 'butter', 'multi-grain penne pasta', 'extra-virgin olive oil', 'cilantro leaves', 'green pepper', 'shredded mozzarella cheese', 'fresh parsley', 'spaghetti']]\n"
     ]
    }
   ],
   "source": [
    "gtr_60_ind = df_train[df_train['num_ing'] > 60].index.values\n",
    "print(df_train.ingredients[gtr_60_ind].tolist())"
   ]
  },
  {
   "cell_type": "markdown",
   "metadata": {},
   "source": [
    "This seems like a totally weird recipe. It calls for 'boneless skinless chicken breast halves', 'cooked chicken', 'chicken cutlets', and 'boneless skinless chicken breasts.' Here's another recipe with suspiciously high number of ingredients, and an even more suspicious ingredient list."
   ]
  },
  {
   "cell_type": "code",
   "execution_count": 9,
   "metadata": {},
   "outputs": [
    {
     "data": {
      "text/html": [
       "<div>\n",
       "<style scoped>\n",
       "    .dataframe tbody tr th:only-of-type {\n",
       "        vertical-align: middle;\n",
       "    }\n",
       "\n",
       "    .dataframe tbody tr th {\n",
       "        vertical-align: top;\n",
       "    }\n",
       "\n",
       "    .dataframe thead th {\n",
       "        text-align: right;\n",
       "    }\n",
       "</style>\n",
       "<table border=\"1\" class=\"dataframe\">\n",
       "  <thead>\n",
       "    <tr style=\"text-align: right;\">\n",
       "      <th></th>\n",
       "      <th>cuisine</th>\n",
       "      <th>id</th>\n",
       "      <th>ingredients</th>\n",
       "      <th>num_ing</th>\n",
       "    </tr>\n",
       "  </thead>\n",
       "  <tbody>\n",
       "    <tr>\n",
       "      <th>10513</th>\n",
       "      <td>mexican</td>\n",
       "      <td>49282</td>\n",
       "      <td>[condensed cream of chicken soup, pepper, refr...</td>\n",
       "      <td>49</td>\n",
       "    </tr>\n",
       "    <tr>\n",
       "      <th>15289</th>\n",
       "      <td>italian</td>\n",
       "      <td>3885</td>\n",
       "      <td>[fettucine, fresh marjoram, minced garlic, oli...</td>\n",
       "      <td>65</td>\n",
       "    </tr>\n",
       "    <tr>\n",
       "      <th>22906</th>\n",
       "      <td>indian</td>\n",
       "      <td>2253</td>\n",
       "      <td>[white vinegar, sparkling lemonade, coconut su...</td>\n",
       "      <td>49</td>\n",
       "    </tr>\n",
       "    <tr>\n",
       "      <th>26103</th>\n",
       "      <td>mexican</td>\n",
       "      <td>13049</td>\n",
       "      <td>[vanilla ice cream, lime, garlic powder, zucch...</td>\n",
       "      <td>52</td>\n",
       "    </tr>\n",
       "    <tr>\n",
       "      <th>30350</th>\n",
       "      <td>brazilian</td>\n",
       "      <td>13430</td>\n",
       "      <td>[marshmallows, fresh corn, cheddar cheese, shr...</td>\n",
       "      <td>59</td>\n",
       "    </tr>\n",
       "    <tr>\n",
       "      <th>31250</th>\n",
       "      <td>italian</td>\n",
       "      <td>29216</td>\n",
       "      <td>[eggs, warm water, pepper, dried basil, unsalt...</td>\n",
       "      <td>43</td>\n",
       "    </tr>\n",
       "  </tbody>\n",
       "</table>\n",
       "</div>"
      ],
      "text/plain": [
       "         cuisine     id                                        ingredients  \\\n",
       "10513    mexican  49282  [condensed cream of chicken soup, pepper, refr...   \n",
       "15289    italian   3885  [fettucine, fresh marjoram, minced garlic, oli...   \n",
       "22906     indian   2253  [white vinegar, sparkling lemonade, coconut su...   \n",
       "26103    mexican  13049  [vanilla ice cream, lime, garlic powder, zucch...   \n",
       "30350  brazilian  13430  [marshmallows, fresh corn, cheddar cheese, shr...   \n",
       "31250    italian  29216  [eggs, warm water, pepper, dried basil, unsalt...   \n",
       "\n",
       "       num_ing  \n",
       "10513       49  \n",
       "15289       65  \n",
       "22906       49  \n",
       "26103       52  \n",
       "30350       59  \n",
       "31250       43  "
      ]
     },
     "metadata": {},
     "output_type": "display_data"
    },
    {
     "name": "stdout",
     "output_type": "stream",
     "text": [
      "['vanilla ice cream', 'lime', 'garlic powder', 'zucchini', 'guacamole', 'chili powder', 'red wine vinegar', 'paprika', 'purple onion', 'yellow onion', 'fresh parsley leaves', 'fresh mint', 'cumin', 'eggs', 'black beans', 'honey', 'asparagus', 'sugar cookie dough', 'boneless skinless chicken breasts', 'zesty italian dressing', 'red pepper flakes', 'crushed red pepper flakes', 'cilantro leaves', 'cayenne pepper', 'fudge brownie mix', 'corn tortillas', 'avocado', 'black pepper', 'chocolate chip cookie mix', 'ground pepper', 'Sriracha', 'condiments', 'onion powder', 'butter', 'cilantro', 'salt', 'flat iron steaks', 'lemon juice', 'sour cream', 'green bell pepper', 'kosher salt', 'olive oil', 'pepper jack', 'jalapeno chilies', 'flank steak', 'vegetable oil', 'portabello mushroom', 'yellow bell pepper', 'salsa', 'garlic cloves', 'red bell pepper', 'candy']\n"
     ]
    }
   ],
   "source": [
    "display(df_train.loc[df_train.num_ing > 40])\n",
    "print(df_train.ingredients[26103])"
   ]
  },
  {
   "cell_type": "markdown",
   "metadata": {},
   "source": [
    "Based on the distribution of number of ingredients, let's make a cut on rows with number of ingredients > 31. For every number of ingredients exceeding 31, there are fewer than 10 recipes each, so we're throwing out fewer than ~100 rows out of close to 40000 rows. We want to be conservative with these cut because we don't want to bias against cuisines that use a lot of ingredients."
   ]
  },
  {
   "cell_type": "code",
   "execution_count": 10,
   "metadata": {},
   "outputs": [],
   "source": [
    "df_train = df_train[df_train['num_ing'] < 32]"
   ]
  },
  {
   "cell_type": "code",
   "execution_count": 11,
   "metadata": {},
   "outputs": [],
   "source": [
    "df_train.reset_index(inplace=True, drop=True)"
   ]
  },
  {
   "cell_type": "markdown",
   "metadata": {},
   "source": [
    "Now, moving on to the cuisines themselves: italian and Mexican cuisines are the top two popular categories. There's moderate class imbalance."
   ]
  },
  {
   "cell_type": "code",
   "execution_count": 12,
   "metadata": {},
   "outputs": [
    {
     "data": {
      "image/png": "[encoded data removed]",
      "text/plain": [
       "<Figure size 720x360 with 1 Axes>"
      ]
     },
     "metadata": {
      "needs_background": "light"
     },
     "output_type": "display_data"
    }
   ],
   "source": [
    "plt.figure(1, figsize=(10,5))\n",
    "s = sns.countplot(x='cuisine', data=df_train)\n",
    "dummy = s.set_xticklabels(s.get_xticklabels(), rotation=60)"
   ]
  },
  {
   "cell_type": "markdown",
   "metadata": {},
   "source": [
    "Let's preprocess the ingredient names. We will first pass the ingredients through a lemmatizer to return the lemma, or the base of the word."
   ]
  },
  {
   "cell_type": "code",
   "execution_count": 13,
   "metadata": {},
   "outputs": [
    {
     "name": "stdout",
     "output_type": "stream",
     "text": [
      "tomato\n"
     ]
    }
   ],
   "source": [
    "lemmatizer = nltk.WordNetLemmatizer()\n",
    "#tomatoes would be modified to tomato\n",
    "print(lemmatizer.lemmatize('tomatoes'))"
   ]
  },
  {
   "cell_type": "code",
   "execution_count": 14,
   "metadata": {},
   "outputs": [],
   "source": [
    "def ingredients(df, i):\n",
    "    ing_list = df['ingredients'].iloc[i].copy()\n",
    "\n",
    "    ing_concat = []\n",
    "    for ing in ing_list:\n",
    "        #replace accent characters, copied directly from (https://stackoverflow.com/questions/517923/what-is-the-best-way-to-remove-accents-in-a-python-unicode-string)\n",
    "        ing = u\"\".join([c for c in unicodedata.normalize('NFKD', ing) if not unicodedata.combining(c)])\n",
    "        #remove alphabet characters, e.g., numbers, special characters\n",
    "        ing = re.sub(r'[^a-zA-Z]',' ', ing)\n",
    "\n",
    "        #this was included later. RF features analysis shows this as an important feature.\n",
    "        #turn this into one word so it wont be separated into \"fish\" and \"sauce.\"\n",
    "        #ignore prefixes such as \"thai\" and \"asian.\"\n",
    "        if 'fish sauce' in ing:\n",
    "            ing = 'fishsauce'\n",
    "        #similarly for corn starch and sour cream\n",
    "        if 'corn starch' in ing:\n",
    "            ing = 'cornstarch'\n",
    "        if 'sour cream' in ing:\n",
    "            ing = 'sourcream'\n",
    "\n",
    "        word_list = ing.split()\n",
    "        for word in word_list:\n",
    "            word = word.strip()\n",
    "            lem = lemmatizer.lemmatize(word)\n",
    "            ing_concat.append(lem)\n",
    "    ing_concat = list(np.unique(ing_concat))\n",
    "    df.at[i, 'ingredients_concat'] = ' '.join(ing_concat) \n"
   ]
  },
  {
   "cell_type": "code",
   "execution_count": 15,
   "metadata": {
    "scrolled": true
   },
   "outputs": [],
   "source": [
    "for i in range(df_train.shape[0]):\n",
    "    ingredients(df_train, i) \n",
    "for i in range(df_test.shape[0]):\n",
    "    ingredients(df_test, i) "
   ]
  },
  {
   "cell_type": "markdown",
   "metadata": {},
   "source": [
    "Get the simple counts of words from the ingredients."
   ]
  },
  {
   "cell_type": "code",
   "execution_count": 16,
   "metadata": {},
   "outputs": [
    {
     "name": "stdout",
     "output_type": "stream",
     "text": [
      "A total of 39745 recipes\n",
      "A total of 2811 unique ingredient words\n"
     ]
    }
   ],
   "source": [
    "count_vect = CountVectorizer()\n",
    "X_train_counts = count_vect.fit_transform(df_train.ingredients_concat)\n",
    "X_test_counts = count_vect.transform(df_test.ingredients_concat)\n",
    "print('A total of', X_train_counts.shape[0], 'recipes')\n",
    "print('A total of', X_train_counts.shape[1], 'unique ingredient words')"
   ]
  },
  {
   "cell_type": "markdown",
   "metadata": {},
   "source": [
    "Some of the most common ingredients include things like salt, onions, oil, and water."
   ]
  },
  {
   "cell_type": "code",
   "execution_count": 17,
   "metadata": {
    "scrolled": true
   },
   "outputs": [],
   "source": [
    "ingredient_names = np.array(count_vect.get_feature_names())\n",
    "ingredient_counts = dict(zip(ingredient_names, X_train_counts.sum(axis=0).tolist()[0]))\n",
    "ingredient_counts = pd.DataFrame(list(ingredient_counts.items()), columns=['ingredients', 'counts'])\n",
    "ingredient_counts['counts_frac'] = ingredient_counts['counts'].apply(lambda x: x/X_train_counts.shape[0])"
   ]
  },
  {
   "cell_type": "code",
   "execution_count": 18,
   "metadata": {},
   "outputs": [
    {
     "data": {
      "text/html": [
       "<div>\n",
       "<style scoped>\n",
       "    .dataframe tbody tr th:only-of-type {\n",
       "        vertical-align: middle;\n",
       "    }\n",
       "\n",
       "    .dataframe tbody tr th {\n",
       "        vertical-align: top;\n",
       "    }\n",
       "\n",
       "    .dataframe thead th {\n",
       "        text-align: right;\n",
       "    }\n",
       "</style>\n",
       "<table border=\"1\" class=\"dataframe\">\n",
       "  <thead>\n",
       "    <tr style=\"text-align: right;\">\n",
       "      <th></th>\n",
       "      <th>ingredients</th>\n",
       "      <th>counts</th>\n",
       "      <th>counts_frac</th>\n",
       "    </tr>\n",
       "  </thead>\n",
       "  <tbody>\n",
       "    <tr>\n",
       "      <th>2191</th>\n",
       "      <td>salt</td>\n",
       "      <td>23667</td>\n",
       "      <td>0.595471</td>\n",
       "    </tr>\n",
       "    <tr>\n",
       "      <th>1740</th>\n",
       "      <td>oil</td>\n",
       "      <td>21087</td>\n",
       "      <td>0.530557</td>\n",
       "    </tr>\n",
       "    <tr>\n",
       "      <th>1868</th>\n",
       "      <td>pepper</td>\n",
       "      <td>20156</td>\n",
       "      <td>0.507133</td>\n",
       "    </tr>\n",
       "    <tr>\n",
       "      <th>1005</th>\n",
       "      <td>garlic</td>\n",
       "      <td>18205</td>\n",
       "      <td>0.458045</td>\n",
       "    </tr>\n",
       "    <tr>\n",
       "      <th>1752</th>\n",
       "      <td>onion</td>\n",
       "      <td>17593</td>\n",
       "      <td>0.442647</td>\n",
       "    </tr>\n",
       "    <tr>\n",
       "      <th>1112</th>\n",
       "      <td>ground</td>\n",
       "      <td>13108</td>\n",
       "      <td>0.329802</td>\n",
       "    </tr>\n",
       "    <tr>\n",
       "      <th>960</th>\n",
       "      <td>fresh</td>\n",
       "      <td>13098</td>\n",
       "      <td>0.329551</td>\n",
       "    </tr>\n",
       "    <tr>\n",
       "      <th>1747</th>\n",
       "      <td>olive</td>\n",
       "      <td>11232</td>\n",
       "      <td>0.282602</td>\n",
       "    </tr>\n",
       "    <tr>\n",
       "      <th>2474</th>\n",
       "      <td>sugar</td>\n",
       "      <td>11082</td>\n",
       "      <td>0.278828</td>\n",
       "    </tr>\n",
       "    <tr>\n",
       "      <th>224</th>\n",
       "      <td>black</td>\n",
       "      <td>10140</td>\n",
       "      <td>0.255126</td>\n",
       "    </tr>\n",
       "  </tbody>\n",
       "</table>\n",
       "</div>"
      ],
      "text/plain": [
       "     ingredients  counts  counts_frac\n",
       "2191        salt   23667     0.595471\n",
       "1740         oil   21087     0.530557\n",
       "1868      pepper   20156     0.507133\n",
       "1005      garlic   18205     0.458045\n",
       "1752       onion   17593     0.442647\n",
       "1112      ground   13108     0.329802\n",
       "960        fresh   13098     0.329551\n",
       "1747       olive   11232     0.282602\n",
       "2474       sugar   11082     0.278828\n",
       "224        black   10140     0.255126"
      ]
     },
     "execution_count": 18,
     "metadata": {},
     "output_type": "execute_result"
    }
   ],
   "source": [
    "ingredient_counts.sort_values(by='counts', ascending=False).head(n=10)"
   ]
  },
  {
   "cell_type": "markdown",
   "metadata": {},
   "source": [
    "Now apply TF-IDF. Instead of simple counts of ingredients in each recipe, this approach takes into account that some ingredients appear very frequently (e.g., salt) and therefore contain less discriminating power. "
   ]
  },
  {
   "cell_type": "code",
   "execution_count": 19,
   "metadata": {},
   "outputs": [
    {
     "name": "stdout",
     "output_type": "stream",
     "text": [
      "(39745, 2811)\n"
     ]
    }
   ],
   "source": [
    "tfidf = TfidfTransformer()\n",
    "X_train_tfidf = tfidf.fit_transform(X_train_counts)\n",
    "X_test_tfidf = tfidf.transform(X_test_counts)\n",
    "print(X_train_tfidf.shape)"
   ]
  },
  {
   "cell_type": "markdown",
   "metadata": {},
   "source": [
    "Encode the cuisine names."
   ]
  },
  {
   "cell_type": "code",
   "execution_count": 20,
   "metadata": {},
   "outputs": [],
   "source": [
    "mlb = preprocessing.MultiLabelBinarizer()\n",
    "y_train_mlb = mlb.fit_transform(df_train.cuisine.values.reshape(-1,1))\n",
    "\n",
    "le = preprocessing.LabelEncoder()\n",
    "y_train_le = le.fit_transform(df_train.cuisine)"
   ]
  },
  {
   "cell_type": "markdown",
   "metadata": {},
   "source": [
    "## Dimensionality Reduction\n",
    "\n",
    "There are close to 2800 features, which is a fairly large number. We can try applying some dimensionality reduction techniques to select only features with some predictive power and decrease the computation time. Techniques we will explore are:\n",
    "\n",
    "* low variance filter\n",
    "* random forest regressor feature importance\n",
    "* principle component analysis\n"
   ]
  },
  {
   "cell_type": "code",
   "execution_count": 21,
   "metadata": {},
   "outputs": [],
   "source": [
    "X_train_tfidf_pd = pd.DataFrame(X_train_tfidf.A, columns=ingredient_names)\n",
    "X_test_tfidf_pd = pd.DataFrame(X_test_tfidf.A, columns=np.array(count_vect.get_feature_names()))"
   ]
  },
  {
   "cell_type": "markdown",
   "metadata": {},
   "source": [
    "#### Low variance filter\n",
    "One method is to drop variables with low variance across the samples in the data set."
   ]
  },
  {
   "cell_type": "code",
   "execution_count": 22,
   "metadata": {},
   "outputs": [
    {
     "data": {
      "text/plain": [
       "flour      0.004776\n",
       "butter     0.004710\n",
       "water      0.004628\n",
       "egg        0.004623\n",
       "sugar      0.004607\n",
       "milk       0.004508\n",
       "purpose    0.004280\n",
       "all        0.004279\n",
       "white      0.004277\n",
       "juice      0.004265\n",
       "dtype: float64"
      ]
     },
     "execution_count": 22,
     "metadata": {},
     "output_type": "execute_result"
    }
   ],
   "source": [
    "var = X_train_tfidf_pd.var()\n",
    "var.sort_values(ascending=False).head(n=10)"
   ]
  },
  {
   "cell_type": "code",
   "execution_count": 23,
   "metadata": {},
   "outputs": [
    {
     "data": {
      "text/plain": [
       "psyllium     0.000002\n",
       "teff         0.000002\n",
       "slim         0.000002\n",
       "cotto        0.000002\n",
       "romanesco    0.000003\n",
       "veri         0.000003\n",
       "pat          0.000003\n",
       "leaves       0.000003\n",
       "better       0.000003\n",
       "than         0.000003\n",
       "dtype: float64"
      ]
     },
     "execution_count": 23,
     "metadata": {},
     "output_type": "execute_result"
    }
   ],
   "source": [
    "var.sort_values(ascending=True).head(n=10)"
   ]
  },
  {
   "cell_type": "markdown",
   "metadata": {},
   "source": [
    "We could cut the number of features by about 60% if we throw out features with $\\log{\\sigma} \\lesssim -4$. But this choice of threshold is somewhat arbitrary and we'd have to test several options."
   ]
  },
  {
   "cell_type": "code",
   "execution_count": 24,
   "metadata": {},
   "outputs": [
    {
     "data": {
      "text/plain": [
       "(-6.4, -2.4)"
      ]
     },
     "execution_count": 24,
     "metadata": {},
     "output_type": "execute_result"
    },
    {
     "data": {
      "image/png": "[encoded data removed]",
      "text/plain": [
       "<Figure size 432x288 with 1 Axes>"
      ]
     },
     "metadata": {
      "needs_background": "light"
     },
     "output_type": "display_data"
    }
   ],
   "source": [
    "s = sns.distplot(np.log10(var), hist_kws={'cumulative': True}, kde_kws={'cumulative': True})\n",
    "s.set_ylabel('cdf')\n",
    "s.set_xlabel('log(variance)')\n",
    "s.set_xlim(-6.4,-2.4)"
   ]
  },
  {
   "cell_type": "markdown",
   "metadata": {},
   "source": [
    "#### RF\n",
    "\n",
    "Run random forest regressor and obtain the gini importance or mean decrease impurity, which is the total reduction in impurity (or error) in nodes averaged over all trees in the ensemble. Higher feature importance means it's more important for classifying the label correctly.\n",
    "\n",
    "In general, we have to be careful with interpreting the feature importance because this is biased toward variables with more categories (not an issue here since the features are binary-coded) and correlated features can artificially boost or decrease the importance of other correlated variables (summarized from this [source](https://blog.datadive.net/selecting-good-features-part-iii-random-forests/)).\n",
    "\n",
    "Similar to the previous example, we have to make a choice on the total number of features we want to keep or on the minimum threshold value of feature importance. This is also pretty slow."
   ]
  },
  {
   "cell_type": "code",
   "execution_count": 25,
   "metadata": {
    "scrolled": true
   },
   "outputs": [
    {
     "data": {
      "text/plain": [
       "RandomForestRegressor(bootstrap=True, criterion='mse', max_depth=5,\n",
       "           max_features='auto', max_leaf_nodes=None,\n",
       "           min_impurity_decrease=0.0, min_impurity_split=None,\n",
       "           min_samples_leaf=1, min_samples_split=2,\n",
       "           min_weight_fraction_leaf=0.0, n_estimators=10, n_jobs=None,\n",
       "           oob_score=False, random_state=None, verbose=0, warm_start=False)"
      ]
     },
     "execution_count": 25,
     "metadata": {},
     "output_type": "execute_result"
    }
   ],
   "source": [
    "rfr = RandomForestRegressor(max_depth=5, n_estimators=10)\n",
    "rfr.fit(X_train_tfidf, y_train_le)"
   ]
  },
  {
   "cell_type": "code",
   "execution_count": 26,
   "metadata": {},
   "outputs": [
    {
     "data": {
      "image/png": "[encoded data removed]",
      "text/plain": [
       "<Figure size 432x288 with 1 Axes>"
      ]
     },
     "metadata": {
      "needs_background": "light"
     },
     "output_type": "display_data"
    }
   ],
   "source": [
    "feat_imp = rfr.feature_importances_\n",
    "feat_imp_ind = np.argsort(feat_imp)[-20:]\n",
    "s = sns.barplot(x=feat_imp[feat_imp_ind], y=ingredient_names[feat_imp_ind])\n",
    "dummy = s.set_xlabel('feature importance')"
   ]
  },
  {
   "cell_type": "markdown",
   "metadata": {},
   "source": [
    "#### PCA --- *Don't use. Should use MCA!*\n",
    "\n",
    "We could use PCA to create new features that are linear combinations of the existing features. It's fast, so it works well with large number of features. In our case, we would only need 1000 out of ~2800 original features to explain 95% of the variations."
   ]
  },
  {
   "cell_type": "code",
   "execution_count": 27,
   "metadata": {},
   "outputs": [],
   "source": [
    "#pca = PCA(n_components=1000)\n",
    "#X_train_pca = pca.fit_transform(X_train_tfidf_pd)\n",
    "#X_test_pca = pca.transform(X_test_tfidf_pd)\n",
    "#X_train_pca_pd = pd.DataFrame(X_train_pca)"
   ]
  },
  {
   "cell_type": "code",
   "execution_count": 28,
   "metadata": {},
   "outputs": [],
   "source": [
    "#s = sns.barplot(x=np.arange(20)+1, y=pca.explained_variance_ratio_[:20]*100)\n",
    "#s.set_ylabel('explained variance [%]')\n",
    "#s.set_xlabel('PCA component')\n",
    "#\n",
    "#print(np.cumsum(pca.explained_variance_ratio_)[-1])"
   ]
  },
  {
   "cell_type": "markdown",
   "metadata": {},
   "source": [
    "## Predicting the Cuisine"
   ]
  },
  {
   "cell_type": "markdown",
   "metadata": {},
   "source": [
    "Let's test the following algorithms:\n",
    "\n",
    "* **Complement Naive Bayes**, a slightly modified version of the Naive Bayes algorithm for multinomially distributed data (multiple classes). According to the documentation, this works better than the standard multinomial Naive Bayes algorithm when we have imbalanced data sets. One relevant hyperparameter is $\\alpha$, a smoothing term that appears in the estimation of distribution parameters. NOTE: we wouldn't use NB with the PCA-transformed data because it requires non-negative data. Running this with the original data yields about 77% accuracy, a good benchmark value to keep in the back of our head.\n",
    "* **Logistic Regression**\n",
    "* **Support Vector Machine**\n",
    "* **Gradient Boosting** is an example of boosting, which is an ensemble method that incrementally improves an initially weak model (e.g., 1 level-deep decision tree, a.k.a. \"decision stump\") by modeling the residual in each step. We're using sklearn.GBC here but another popular option is XGBoost.\n",
    "* **Neural Networks**"
   ]
  },
  {
   "cell_type": "markdown",
   "metadata": {},
   "source": [
    "First we want to test the baseline performance of the algorithms. These models take a long time to train! Although SVC and XGB may achieve better accuracy in the long run with careful hyperparameter tuning, linear regression may be our best bet out of these options given computational feasibility."
   ]
  },
  {
   "cell_type": "code",
   "execution_count": 29,
   "metadata": {},
   "outputs": [
    {
     "name": "stdout",
     "output_type": "stream",
     "text": [
      "LR Accuracy: 0.779\n",
      "Time [s]: 2.11e+02\n",
      "SVC Accuracy: 0.802\n",
      "Time [s]: 2.97e+03\n",
      "XGB Accuracy: 0.739\n",
      "Time [s]: 6.68e+03\n"
     ]
    }
   ],
   "source": [
    "algorithms = {'LR':LogisticRegression(solver='saga', multi_class='multinomial'), 'SVC':SVC(gamma='scale'), 'XGB': XGBClassifier(n_estimators=100)}\n",
    "\n",
    "name_list = algorithms.keys()\n",
    "for i_n, n in enumerate(name_list):\n",
    "    X_train_0, X_test_0, y_train_0, y_test_0 = model_selection.train_test_split(X_train_tfidf_pd, y_train_le, test_size=0.25)\n",
    "    clf = algorithms[n]\n",
    "    tic = time.time()\n",
    "    clf = clf.fit(X_train_0, y_train_0)\n",
    "    y_pred_0 = clf.predict(X_test_0)\n",
    "    toc = time.time()\n",
    "    print(n, \"Accuracy: {:.3f}\".format(metrics.accuracy_score(y_test_0, y_pred_0)))\n",
    "    print('Time [s]: {:6.3}'.format(toc-tic))"
   ]
  },
  {
   "cell_type": "markdown",
   "metadata": {},
   "source": [
    "## Optimize the hyperparameters for the algorithm with the best baseline performance.\n",
    "We will turn again to hyperopt to automatically fine-tune the hyperparameters and see if we can improve the performance of the classifier. LR is much faster (by a factor of ~25) to train than SVC. Let's see if we can tune LR to eke out a better performance."
   ]
  },
  {
   "cell_type": "code",
   "execution_count": 30,
   "metadata": {},
   "outputs": [],
   "source": [
    "#domain = {\n",
    "#            \"penalty\": hp.choice(\"penalty\", ['l1', 'l2']),\n",
    "#            \"C\": hp.loguniform(\"C\",-2,2),\n",
    "#        }"
   ]
  },
  {
   "cell_type": "code",
   "execution_count": 31,
   "metadata": {},
   "outputs": [],
   "source": [
    "#sample(domain)"
   ]
  },
  {
   "cell_type": "markdown",
   "metadata": {},
   "source": [
    "Save the result as it updates."
   ]
  },
  {
   "cell_type": "code",
   "execution_count": 32,
   "metadata": {},
   "outputs": [],
   "source": [
    "#outfile = 'lr_saga_trials.csv'\n",
    "#with open(outfile, 'w') as f:\n",
    "#    writer = csv.writer(f)\n",
    "#    writer.writerow(['loss', 'acc', 'params', 'train_time'])"
   ]
  },
  {
   "cell_type": "code",
   "execution_count": 33,
   "metadata": {
    "scrolled": false
   },
   "outputs": [],
   "source": [
    "#def objective(hparams):\n",
    "#    \n",
    "#    tic = timer()\n",
    "#    \n",
    "#    clf = LogisticRegression(**hparams, solver='saga', multi_class='multinomial', max_iter=300)\n",
    "#    cv_score = model_selection.cross_validate(clf, X_train_tfidf_pd, y_train_le, cv=3, scoring=['neg_log_loss', 'accuracy'], return_train_score=False)\n",
    "#    \n",
    "#    #you want to minimize log loss \n",
    "#    #sklearn returns negative because its convention is to maximize\n",
    "#    #but hyperopt minimizes so undo the negative\n",
    "#    loss = -np.mean(cv_score['test_neg_log_loss'])\n",
    "#    acc = np.mean(cv_score['test_accuracy'])\n",
    "#\n",
    "#    toc = timer()\n",
    "#    \n",
    "#    #write out the results in real time\n",
    "#    with open(outfile, 'w') as f:\n",
    "#        writer = csv.writer(f)\n",
    "#        writer.writerow([loss, acc, hparams, toc-tic])\n",
    "#    \n",
    "#    #so we can monitor the progress!\n",
    "#    pbar.update()\n",
    "#\n",
    "#    return {'loss': loss, 'acc': acc, 'hparams': hparams, 'status': STATUS_OK}    "
   ]
  },
  {
   "cell_type": "code",
   "execution_count": 34,
   "metadata": {},
   "outputs": [],
   "source": [
    "##keep the training information\n",
    "#bayes_trials = Trials()"
   ]
  },
  {
   "cell_type": "code",
   "execution_count": 35,
   "metadata": {
    "scrolled": false
   },
   "outputs": [],
   "source": [
    "#MAX_EVALS = 50\n",
    "#pbar = tqdm_notebook(total=MAX_EVALS, desc='Hyperopt')\n",
    "#\n",
    "#best = fmin(fn=objective, space=domain, algo=tpe.suggest, max_evals=MAX_EVALS, trials=bayes_trials)\n",
    "#pbar.close()"
   ]
  },
  {
   "cell_type": "markdown",
   "metadata": {},
   "source": [
    "With only 50 trials, the hyperparameter tuning process may not be fully converged. But let's first check our accuracy score."
   ]
  },
  {
   "cell_type": "code",
   "execution_count": 36,
   "metadata": {},
   "outputs": [],
   "source": [
    "#print(best)"
   ]
  },
  {
   "cell_type": "code",
   "execution_count": 37,
   "metadata": {},
   "outputs": [],
   "source": [
    "#plt.figure(1, figsize=(9,8))\n",
    "#for i_k, k in enumerate(bayes_trials.vals.keys()):\n",
    "#    ax = plt.subplot('33'+str(i_k+1))\n",
    "#    ax.scatter(range(len(bayes_trials.vals[k])), bayes_trials.vals[k], label=k, s=2)\n",
    "#    ax.set_ylabel(' '.join(k.split('_')))\n",
    "#    ax.set_xlabel('iteration')\n",
    "#    plt.tight_layout()\n",
    "#\n",
    "#plt.figure(2)\n",
    "#ax = plt.subplot('111')\n",
    "#ax.scatter(range(len(bayes_trials.losses())), bayes_trials.losses(), s=2)\n",
    "#ax.set_xlabel('iteration')\n",
    "#ax.set_ylabel('loss')"
   ]
  },
  {
   "cell_type": "code",
   "execution_count": 38,
   "metadata": {},
   "outputs": [],
   "source": [
    "#print(\"Accuracy: {:.3f}\".format(max([bayes_trials.results[i]['acc'] for i in range(len(bayes_trials.results))])))"
   ]
  },
  {
   "cell_type": "markdown",
   "metadata": {},
   "source": [
    "## SVC after all?\n",
    "\n",
    "Interestingly, even with hyperparameter optimization, we can't seem to really improve LR's performance. Let's try a very basic grid search with SVC instead. Again, we'll follow Andrew Ng's rule of thumb and use the Gaussian kernel given the size of n and m (n=1000, m~40000)."
   ]
  },
  {
   "cell_type": "code",
   "execution_count": 39,
   "metadata": {},
   "outputs": [
    {
     "name": "stdout",
     "output_type": "stream",
     "text": [
      "Fitting 3 folds for each of 30 candidates, totalling 90 fits\n"
     ]
    },
    {
     "name": "stderr",
     "output_type": "stream",
     "text": [
      "[Parallel(n_jobs=-1)]: Using backend LokyBackend with 8 concurrent workers.\n",
      "[Parallel(n_jobs=-1)]: Done   2 tasks      | elapsed: 120.8min\n",
      "[Parallel(n_jobs=-1)]: Done   9 tasks      | elapsed: 249.5min\n",
      "[Parallel(n_jobs=-1)]: Done  16 tasks      | elapsed: 304.3min\n",
      "[Parallel(n_jobs=-1)]: Done  25 tasks      | elapsed: 493.6min\n",
      "[Parallel(n_jobs=-1)]: Done  34 tasks      | elapsed: 580.7min\n",
      "[Parallel(n_jobs=-1)]: Done  45 tasks      | elapsed: 733.9min\n",
      "[Parallel(n_jobs=-1)]: Done  56 tasks      | elapsed: 924.6min\n",
      "[Parallel(n_jobs=-1)]: Done  69 tasks      | elapsed: 1046.8min\n",
      "[Parallel(n_jobs=-1)]: Done  85 out of  90 | elapsed: 1284.3min remaining: 75.5min\n",
      "[Parallel(n_jobs=-1)]: Done  90 out of  90 | elapsed: 1324.4min finished\n"
     ]
    },
    {
     "data": {
      "text/plain": [
       "GridSearchCV(cv=3, error_score='raise-deprecating',\n",
       "       estimator=SVC(C=1.0, cache_size=200, class_weight=None, coef0=0.0,\n",
       "  decision_function_shape='ovr', degree=3, gamma='auto_deprecated',\n",
       "  kernel='rbf', max_iter=-1, probability=False, random_state=None,\n",
       "  shrinking=True, tol=0.001, verbose=False),\n",
       "       fit_params=None, iid='warn', n_jobs=-1,\n",
       "       param_grid={'C': [0.1, 1, 3, 5, 7, 10], 'gamma': ['scale', 0.1, 0.01, 0.001, 0.0001]},\n",
       "       pre_dispatch='2*n_jobs', refit=True, return_train_score=False,\n",
       "       scoring='accuracy', verbose=10)"
      ]
     },
     "execution_count": 39,
     "metadata": {},
     "output_type": "execute_result"
    }
   ],
   "source": [
    "clf = SVC(kernel='rbf')\n",
    "gscv = model_selection.GridSearchCV(clf, {'C': [0.1, 1, 3, 5, 7, 10], 'gamma': ['scale', 0.1, 0.01, 0.001, 0.0001]},\\\n",
    "                                scoring='accuracy', cv=3, refit=True, return_train_score=False, n_jobs=-1, verbose=10)\n",
    "gscv.fit(X_train_tfidf_pd, y_train_le)\n"
   ]
  },
  {
   "cell_type": "code",
   "execution_count": 40,
   "metadata": {},
   "outputs": [
    {
     "name": "stdout",
     "output_type": "stream",
     "text": [
      "0.8046798339413763\n",
      "{'C': 3, 'gamma': 'scale'}\n"
     ]
    }
   ],
   "source": [
    "print(gscv.best_score_)\n",
    "print(gscv.best_params_)"
   ]
  },
  {
   "cell_type": "markdown",
   "metadata": {},
   "source": [
    "## Prediction Output for Submission File"
   ]
  },
  {
   "cell_type": "code",
   "execution_count": 41,
   "metadata": {},
   "outputs": [],
   "source": [
    "y_true_pred_le = gscv.best_estimator_.predict(X_test_tfidf_pd).astype('int')\n",
    "y_true_pred = le.inverse_transform(y_true_pred_le)\n",
    "\n",
    "X_true_test_withpred = pd.DataFrame({'id': df_test_0.id, 'cuisine': y_true_pred})\n",
    "X_true_test_withpred.to_csv('svc_gscv_prediction.csv', mode='w', index=False)"
   ]
  },
  {
   "cell_type": "markdown",
   "metadata": {},
   "source": [
    "## Extra: Neural Network?\n",
    "\n",
    "Another option is to try a simple shallow neural network with some dropout for regularization."
   ]
  },
  {
   "cell_type": "code",
   "execution_count": 42,
   "metadata": {},
   "outputs": [],
   "source": [
    "X_train_0, X_test_0, y_train_0, y_test_0 = model_selection.train_test_split(X_train_tfidf, y_train_mlb, test_size=0.2)\n",
    "\n",
    "num_cuisines = y_train_mlb.shape[1]\n",
    "num_feats = X_train_tfidf.shape[1]"
   ]
  },
  {
   "cell_type": "code",
   "execution_count": 43,
   "metadata": {
    "scrolled": false
   },
   "outputs": [
    {
     "name": "stdout",
     "output_type": "stream",
     "text": [
      "Train on 31796 samples, validate on 7949 samples\n",
      "Epoch 1/20\n",
      "31796/31796 [==============================] - 51s 2ms/step - loss: 1.4209 - acc: 0.6657 - val_loss: 0.9718 - val_acc: 0.7707\n",
      "\n",
      "Epoch 00001: val_acc improved from -inf to 0.77066, saving model to cooking.weights.best.hdf5\n",
      "Epoch 2/20\n",
      "31796/31796 [==============================] - 44s 1ms/step - loss: 0.9451 - acc: 0.7718 - val_loss: 0.8311 - val_acc: 0.7800\n",
      "\n",
      "Epoch 00002: val_acc improved from 0.77066 to 0.77997, saving model to cooking.weights.best.hdf5\n",
      "Epoch 3/20\n",
      "31796/31796 [==============================] - 46s 1ms/step - loss: 0.7900 - acc: 0.7952 - val_loss: 0.7701 - val_acc: 0.7853\n",
      "\n",
      "Epoch 00003: val_acc improved from 0.77997 to 0.78526, saving model to cooking.weights.best.hdf5\n",
      "Epoch 4/20\n",
      "31796/31796 [==============================] - 50s 2ms/step - loss: 0.7087 - acc: 0.8070 - val_loss: 0.7412 - val_acc: 0.7837\n",
      "\n",
      "Epoch 00004: val_acc did not improve from 0.78526\n",
      "Epoch 5/20\n",
      "31796/31796 [==============================] - 44s 1ms/step - loss: 0.6489 - acc: 0.8177 - val_loss: 0.7247 - val_acc: 0.7861\n",
      "\n",
      "Epoch 00005: val_acc improved from 0.78526 to 0.78614, saving model to cooking.weights.best.hdf5\n",
      "Epoch 6/20\n",
      "31796/31796 [==============================] - 49s 2ms/step - loss: 0.6073 - acc: 0.8250 - val_loss: 0.7167 - val_acc: 0.7900\n",
      "\n",
      "Epoch 00006: val_acc improved from 0.78614 to 0.79004, saving model to cooking.weights.best.hdf5\n",
      "Epoch 7/20\n",
      "31796/31796 [==============================] - 46s 1ms/step - loss: 0.5624 - acc: 0.8376 - val_loss: 0.7155 - val_acc: 0.7887\n",
      "\n",
      "Epoch 00007: val_acc did not improve from 0.79004\n",
      "Epoch 8/20\n",
      "31796/31796 [==============================] - 43s 1ms/step - loss: 0.5366 - acc: 0.8440 - val_loss: 0.7080 - val_acc: 0.7929\n",
      "\n",
      "Epoch 00008: val_acc improved from 0.79004 to 0.79293, saving model to cooking.weights.best.hdf5\n",
      "Epoch 9/20\n",
      "31796/31796 [==============================] - 46s 1ms/step - loss: 0.5040 - acc: 0.8521 - val_loss: 0.7105 - val_acc: 0.7936\n",
      "\n",
      "Epoch 00009: val_acc improved from 0.79293 to 0.79356, saving model to cooking.weights.best.hdf5\n",
      "Epoch 10/20\n",
      "31796/31796 [==============================] - 49s 2ms/step - loss: 0.4822 - acc: 0.8571 - val_loss: 0.7090 - val_acc: 0.7933\n",
      "\n",
      "Epoch 00010: val_acc did not improve from 0.79356\n",
      "Epoch 11/20\n",
      "31796/31796 [==============================] - 50s 2ms/step - loss: 0.4525 - acc: 0.8657 - val_loss: 0.7061 - val_acc: 0.7931\n",
      "\n",
      "Epoch 00011: val_acc did not improve from 0.79356\n",
      "Epoch 12/20\n",
      "31796/31796 [==============================] - 52s 2ms/step - loss: 0.4328 - acc: 0.8718 - val_loss: 0.7113 - val_acc: 0.7924\n",
      "\n",
      "Epoch 00012: val_acc did not improve from 0.79356\n",
      "Epoch 13/20\n",
      "31796/31796 [==============================] - 55s 2ms/step - loss: 0.4112 - acc: 0.8774 - val_loss: 0.7170 - val_acc: 0.7923\n",
      "\n",
      "Epoch 00013: val_acc did not improve from 0.79356\n",
      "Epoch 14/20\n",
      "31796/31796 [==============================] - 47s 1ms/step - loss: 0.3889 - acc: 0.8830 - val_loss: 0.7128 - val_acc: 0.7919\n",
      "\n",
      "Epoch 00014: val_acc did not improve from 0.79356\n",
      "Epoch 15/20\n",
      "31796/31796 [==============================] - 40s 1ms/step - loss: 0.3746 - acc: 0.8869 - val_loss: 0.7138 - val_acc: 0.7932\n",
      "\n",
      "Epoch 00015: val_acc did not improve from 0.79356\n",
      "Epoch 16/20\n",
      "31796/31796 [==============================] - 48s 2ms/step - loss: 0.3509 - acc: 0.8949 - val_loss: 0.7186 - val_acc: 0.7938\n",
      "\n",
      "Epoch 00016: val_acc improved from 0.79356 to 0.79381, saving model to cooking.weights.best.hdf5\n"
     ]
    },
    {
     "data": {
      "text/plain": [
       "<keras.callbacks.History at 0x133dff6d8>"
      ]
     },
     "execution_count": 43,
     "metadata": {},
     "output_type": "execute_result"
    }
   ],
   "source": [
    "inputs = keras.Input(shape=(num_feats,))\n",
    "\n",
    "X = keras.layers.Dense(2000, activation=None)(inputs)\n",
    "X = keras.layers.BatchNormalization()(X)\n",
    "X = keras.layers.Activation('relu')(X)\n",
    "X = keras.layers.Dropout(0.8)(X)\n",
    "\n",
    "X = keras.layers.Dense(2000, activation=None)(inputs)\n",
    "X = keras.layers.BatchNormalization()(X)\n",
    "X = keras.layers.Activation('relu')(X)\n",
    "X = keras.layers.Dropout(0.8)(X)\n",
    "\n",
    "X = keras.layers.Dense(num_cuisines, activation=None)(X)\n",
    "X = keras.layers.BatchNormalization()(X)\n",
    "Y = keras.layers.Activation('softmax')(X)\n",
    "\n",
    "model = keras.models.Model(inputs=inputs, outputs=Y)\n",
    "model.compile(optimizer=keras.optimizers.Adam(lr=0.001), loss='categorical_crossentropy',\n",
    "              metrics=['accuracy'])\n",
    "\n",
    "cb = keras.callbacks.ModelCheckpoint('cooking.weights.best.hdf5', monitor='val_acc', verbose=1, save_best_only=True, mode='max')\n",
    "es = keras.callbacks.EarlyStopping(monitor='val_loss', patience=5)\n",
    "\n",
    "model.fit(X_train_0, y_train_0, epochs=20, batch_size=64, validation_data=(X_test_0, y_test_0), callbacks=[cb, es])"
   ]
  },
  {
   "cell_type": "markdown",
   "metadata": {},
   "source": [
    "## Future work / Closing thoughts\n",
    "\n",
    "The hyperparameter tuning was really slow. Beyond hyperparameter tuning/LR itself, other algorithms could have performed better. Ideally, we would have optimized SVM more extensively.\n",
    "\n",
    "The distribution of cuisines shows that the classes are moderately imbalanced (e.g., many times more italian cuisine than irish cuisine). Would something like oversampling help here?"
   ]
  }
 ],
 "metadata": {
  "kernelspec": {
   "display_name": "Python 3",
   "language": "python",
   "name": "python3"
  },
  "language_info": {
   "codemirror_mode": {
    "name": "ipython",
    "version": 3
   },
   "file_extension": ".py",
   "mimetype": "text/x-python",
   "name": "python",
   "nbconvert_exporter": "python",
   "pygments_lexer": "ipython3",
   "version": "3.6.7"
  },
  "toc": {
   "base_numbering": 1,
   "nav_menu": {},
   "number_sections": false,
   "sideBar": true,
   "skip_h1_title": true,
   "title_cell": "Table of Contents",
   "title_sidebar": "Contents",
   "toc_cell": false,
   "toc_position": {},
   "toc_section_display": true,
   "toc_window_display": false
  }
 },
 "nbformat": 4,
 "nbformat_minor": 2
}
